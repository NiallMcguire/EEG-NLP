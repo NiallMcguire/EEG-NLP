{
 "cells": [
  {
   "cell_type": "code",
   "execution_count": 1,
   "metadata": {
    "collapsed": true,
    "ExecuteTime": {
     "start_time": "2024-05-20T11:34:47.967914Z",
     "end_time": "2024-05-20T11:34:49.582229Z"
    }
   },
   "outputs": [
    {
     "name": "stderr",
     "output_type": "stream",
     "text": [
      "C:\\Users\\gxb18167\\Anaconda3\\lib\\site-packages\\numpy\\_distributor_init.py:30: UserWarning: loaded more than 1 DLL from .libs:\n",
      "C:\\Users\\gxb18167\\Anaconda3\\lib\\site-packages\\numpy\\.libs\\libopenblas64__v0.3.21-gcc_10_3_0.dll\n",
      "C:\\Users\\gxb18167\\Anaconda3\\lib\\site-packages\\numpy\\.libs\\libopenblas64__v0.3.23-gcc_10_3_0.dll\n",
      "  warnings.warn(\"loaded more than 1 DLL from .libs:\"\n"
     ]
    }
   ],
   "source": [
    "from scipy import stats\n",
    "\n"
   ]
  },
  {
   "cell_type": "code",
   "execution_count": 49,
   "outputs": [],
   "source": [],
   "metadata": {
    "collapsed": false,
    "ExecuteTime": {
     "start_time": "2024-05-20T11:53:42.948181Z",
     "end_time": "2024-05-20T11:53:42.956453Z"
    }
   }
  },
  {
   "cell_type": "code",
   "execution_count": 49,
   "outputs": [],
   "source": [],
   "metadata": {
    "collapsed": false,
    "ExecuteTime": {
     "start_time": "2024-05-20T11:53:43.087704Z",
     "end_time": "2024-05-20T11:53:43.099717Z"
    }
   }
  },
  {
   "cell_type": "code",
   "execution_count": 49,
   "outputs": [],
   "source": [],
   "metadata": {
    "collapsed": false,
    "ExecuteTime": {
     "start_time": "2024-05-20T11:53:43.447211Z",
     "end_time": "2024-05-20T11:53:43.461839Z"
    }
   }
  },
  {
   "cell_type": "code",
   "execution_count": 49,
   "outputs": [],
   "source": [],
   "metadata": {
    "collapsed": false,
    "ExecuteTime": {
     "start_time": "2024-05-20T11:53:43.937953Z",
     "end_time": "2024-05-20T11:53:43.956641Z"
    }
   }
  },
  {
   "cell_type": "code",
   "execution_count": 49,
   "outputs": [],
   "source": [],
   "metadata": {
    "collapsed": false,
    "ExecuteTime": {
     "start_time": "2024-05-20T11:53:45.726258Z",
     "end_time": "2024-05-20T11:53:45.746593Z"
    }
   }
  },
  {
   "cell_type": "code",
   "execution_count": 50,
   "outputs": [
    {
     "name": "stdout",
     "output_type": "stream",
     "text": [
      "Model 1: Result = 0.791, Std Dev = 0.021, Z-score = 1.7143, p-value = 0.0865 (not significant)\n",
      "Model 2: Result = 0.793, Std Dev = 0.025, Z-score = 1.5200, p-value = 0.1285 (not significant)\n",
      "Model 3: Result = 0.801, Std Dev = 0.021, Z-score = 2.1905, p-value = 0.0285 (significant)\n",
      "Model 4: Result = 0.789, Std Dev = 0.024, Z-score = 1.4167, p-value = 0.1566 (not significant)\n",
      "Model 5: Result = 0.784, Std Dev = 0.023, Z-score = 1.2609, p-value = 0.2074 (not significant)\n",
      "Model 6: Result = 0.787, Std Dev = 0.016, Z-score = 2.0000, p-value = 0.0455 (significant)\n",
      "Model 7: Result = 0.791, Std Dev = 0.021, Z-score = 1.7143, p-value = 0.0865 (not significant)\n",
      "Model 8: Result = 0.784, Std Dev = 0.018, Z-score = 1.6111, p-value = 0.1072 (not significant)\n",
      "Model 9: Result = 0.777, Std Dev = 0.016, Z-score = 1.3750, p-value = 0.1691 (not significant)\n",
      "Model 10: Result = 0.768, Std Dev = 0.021, Z-score = 0.6190, p-value = 0.5359 (not significant)\n",
      "Model 11: Result = 0.79, Std Dev = 0.015, Z-score = 2.3333, p-value = 0.0196 (significant)\n",
      "Model 12: Result = 0.802, Std Dev = 0.013, Z-score = 3.6154, p-value = 0.0003 (significant)\n",
      "Model 13: Result = 0.805, Std Dev = 0.012, Z-score = 4.1667, p-value = 0.0000 (significant)\n",
      "Model 14: Result = 0.782, Std Dev = 0.017, Z-score = 1.5882, p-value = 0.1122 (not significant)\n",
      "Model 15: Result = 0.783, Std Dev = 0.021, Z-score = 1.3333, p-value = 0.1824 (not significant)\n",
      "Model 16: Result = 0.787, Std Dev = 0.015, Z-score = 2.1333, p-value = 0.0329 (significant)\n",
      "Model 17: Result = 0.797, Std Dev = 0.019, Z-score = 2.2105, p-value = 0.0271 (significant)\n",
      "Model 18: Result = 0.804, Std Dev = 0.016, Z-score = 3.0625, p-value = 0.0022 (significant)\n",
      "Model 19: Result = 0.781, Std Dev = 0.019, Z-score = 1.3684, p-value = 0.1712 (not significant)\n",
      "Model 20: Result = 0.776, Std Dev = 0.021, Z-score = 1.0000, p-value = 0.3173 (not significant)\n",
      "Model 21: Result = 0.793, Std Dev = 0.022, Z-score = 1.7273, p-value = 0.0841 (not significant)\n",
      "Model 22: Result = 0.799, Std Dev = 0.023, Z-score = 1.9130, p-value = 0.0557 (not significant)\n",
      "Model 23: Result = 0.807, Std Dev = 0.024, Z-score = 2.1667, p-value = 0.0303 (significant)\n",
      "Model 24: Result = 0.794, Std Dev = 0.023, Z-score = 1.6957, p-value = 0.0900 (not significant)\n",
      "Model 25: Result = 0.786, Std Dev = 0.026, Z-score = 1.1923, p-value = 0.2331 (not significant)\n",
      "Model 26: Result = 0.79, Std Dev = 0.015, Z-score = 2.3333, p-value = 0.0196 (significant)\n",
      "Model 27: Result = 0.797, Std Dev = 0.024, Z-score = 1.7500, p-value = 0.0801 (not significant)\n",
      "Model 28: Result = 0.789, Std Dev = 0.015, Z-score = 2.2667, p-value = 0.0234 (significant)\n",
      "Model 29: Result = 0.782, Std Dev = 0.014, Z-score = 1.9286, p-value = 0.0538 (not significant)\n",
      "Model 30: Result = 0.77, Std Dev = 0.022, Z-score = 0.6818, p-value = 0.4954 (not significant)\n",
      "Model 31: Result = 0.799, Std Dev = 0.016, Z-score = 2.7500, p-value = 0.0060 (significant)\n",
      "Model 32: Result = 0.805, Std Dev = 0.014, Z-score = 3.5714, p-value = 0.0004 (significant)\n",
      "Model 33: Result = 0.811, Std Dev = 0.016, Z-score = 3.5000, p-value = 0.0005 (significant)\n",
      "Model 34: Result = 0.796, Std Dev = 0.014, Z-score = 2.9286, p-value = 0.0034 (significant)\n",
      "Model 35: Result = 0.788, Std Dev = 0.021, Z-score = 1.5714, p-value = 0.1161 (not significant)\n",
      "Model 36: Result = 0.787, Std Dev = 0.015, Z-score = 2.1333, p-value = 0.0329 (significant)\n",
      "Model 37: Result = 0.797, Std Dev = 0.019, Z-score = 2.2105, p-value = 0.0271 (significant)\n",
      "Model 38: Result = 0.804, Std Dev = 0.016, Z-score = 3.0625, p-value = 0.0022 (significant)\n",
      "Model 39: Result = 0.781, Std Dev = 0.019, Z-score = 1.3684, p-value = 0.1712 (not significant)\n",
      "Model 40: Result = 0.776, Std Dev = 0.019, Z-score = 1.1053, p-value = 0.2690 (not significant)\n",
      "Model 41: Result = 0.796, Std Dev = 0.019, Z-score = 2.1579, p-value = 0.0309 (significant)\n",
      "Model 42: Result = 0.808, Std Dev = 0.024, Z-score = 2.2083, p-value = 0.0272 (significant)\n",
      "Model 43: Result = 0.813, Std Dev = 0.018, Z-score = 3.2222, p-value = 0.0013 (significant)\n",
      "Model 44: Result = 0.802, Std Dev = 0.021, Z-score = 2.2381, p-value = 0.0252 (significant)\n",
      "Model 45: Result = 0.788, Std Dev = 0.025, Z-score = 1.3200, p-value = 0.1868 (not significant)\n",
      "Model 46: Result = 0.79, Std Dev = 0.015, Z-score = 2.3333, p-value = 0.0196 (significant)\n",
      "Model 47: Result = 0.802, Std Dev = 0.02, Z-score = 2.3500, p-value = 0.0188 (significant)\n",
      "Model 48: Result = 0.805, Std Dev = 0.012, Z-score = 4.1667, p-value = 0.0000 (significant)\n",
      "Model 49: Result = 0.791, Std Dev = 0.012, Z-score = 3.0000, p-value = 0.0027 (significant)\n",
      "Model 50: Result = 0.775, Std Dev = 0.025, Z-score = 0.8000, p-value = 0.4237 (not significant)\n",
      "Model 51: Result = 0.806, Std Dev = 0.015, Z-score = 3.4000, p-value = 0.0007 (significant)\n",
      "Model 52: Result = 0.812, Std Dev = 0.017, Z-score = 3.3529, p-value = 0.0008 (significant)\n",
      "Model 53: Result = 0.815, Std Dev = 0.014, Z-score = 4.2857, p-value = 0.0000 (significant)\n",
      "Model 54: Result = 0.794, Std Dev = 0.016, Z-score = 2.4375, p-value = 0.0148 (significant)\n",
      "Model 55: Result = 0.771, Std Dev = 0.019, Z-score = 0.8421, p-value = 0.3997 (not significant)\n",
      "Model 56: Result = 0.794, Std Dev = 0.017, Z-score = 2.2941, p-value = 0.0218 (significant)\n",
      "Model 57: Result = 0.805, Std Dev = 0.019, Z-score = 2.6316, p-value = 0.0085 (significant)\n",
      "Model 58: Result = 0.809, Std Dev = 0.013, Z-score = 4.1538, p-value = 0.0000 (significant)\n",
      "Model 59: Result = 0.791, Std Dev = 0.017, Z-score = 2.1176, p-value = 0.0342 (significant)\n",
      "Model 60: Result = 0.784, Std Dev = 0.02, Z-score = 1.4500, p-value = 0.1471 (not significant)\n"
     ]
    }
   ],
   "source": [
    "import numpy as np\n",
    "from scipy.stats import norm\n",
    "\n",
    "# Example baseline value\n",
    "baseline = 0.755\n",
    "\n",
    "# Example model results and their standard deviations\n",
    "model_results = np.array([0.791,\n",
    "0.793,\n",
    "0.801,\n",
    "0.789,\n",
    "0.784,\n",
    "0.787,\n",
    "0.791,\n",
    "0.784,\n",
    "0.777,\n",
    "0.768,\n",
    "0.79,\n",
    "0.802,\n",
    "0.805,\n",
    "0.782,\n",
    "0.783,\n",
    "0.787,\n",
    "0.797,\n",
    "0.804,\n",
    "0.781,\n",
    "0.776,\n",
    "0.793,\n",
    "0.799,\n",
    "0.807,\n",
    "0.794,\n",
    "0.786,\n",
    "0.79,\n",
    "0.797,\n",
    "0.789,\n",
    "0.782,\n",
    "0.77,\n",
    "0.799,\n",
    "0.805,\n",
    "0.811,\n",
    "0.796,\n",
    "0.788,\n",
    "0.787,\n",
    "0.797,\n",
    "0.804,\n",
    "0.781,\n",
    "0.776,\n",
    "0.796,\n",
    "0.808,\n",
    "0.813,\n",
    "0.802,\n",
    "0.788,\n",
    "0.79,\n",
    "0.802,\n",
    "0.805,\n",
    "0.791,\n",
    "0.775,\n",
    "0.806,\n",
    "0.812,\n",
    "0.815,\n",
    "0.794,\n",
    "0.771,\n",
    "0.794,\n",
    "0.805,\n",
    "0.809,\n",
    "0.791,\n",
    "0.784,])\n",
    "std_devs = np.array([0.021,\n",
    "0.025,\n",
    "0.021,\n",
    "0.024,\n",
    "0.023,\n",
    "0.016,\n",
    "0.021,\n",
    "0.018,\n",
    "0.016,\n",
    "0.021,\n",
    "0.015,\n",
    "0.013,\n",
    "0.012,\n",
    "0.017,\n",
    "0.021,\n",
    "0.015,\n",
    "0.019,\n",
    "0.016,\n",
    "0.019,\n",
    "0.021,\n",
    "0.022,\n",
    "0.023,\n",
    "0.024,\n",
    "0.023,\n",
    "0.026,\n",
    "0.015,\n",
    "0.024,\n",
    "0.015,\n",
    "0.014,\n",
    "0.022,\n",
    "0.016,\n",
    "0.014,\n",
    "0.016,\n",
    "0.014,\n",
    "0.021,\n",
    "0.015,\n",
    "0.019,\n",
    "0.016,\n",
    "0.019,\n",
    "0.019,\n",
    "0.019,\n",
    "0.024,\n",
    "0.018,\n",
    "0.021,\n",
    "0.025,\n",
    "0.015,\n",
    "0.02,\n",
    "0.012,\n",
    "0.012,\n",
    "0.025,\n",
    "0.015,\n",
    "0.017,\n",
    "0.014,\n",
    "0.016,\n",
    "0.019,\n",
    "0.017,\n",
    "0.019,\n",
    "0.013,\n",
    "0.017,\n",
    "0.02,])\n",
    "\n",
    "# Calculate Z-scores\n",
    "z_scores = (model_results - baseline) / std_devs\n",
    "\n",
    "# Calculate p-values\n",
    "p_values = 2 * (1 - norm.cdf(np.abs(z_scores)))\n",
    "\n",
    "# Print results\n",
    "# Print results\n",
    "significance_level = 0.05\n",
    "for i, (result, std_dev, z, p) in enumerate(zip(model_results, std_devs, z_scores, p_values)):\n",
    "    significance = 'significant' if p <= significance_level else 'not significant'\n",
    "    print(f\"Model {i+1}: Result = {result}, Std Dev = {std_dev}, Z-score = {z:.4f}, p-value = {p:.4f} ({significance})\")\n"
   ],
   "metadata": {
    "collapsed": false,
    "ExecuteTime": {
     "start_time": "2024-05-20T11:53:45.919409Z",
     "end_time": "2024-05-20T11:53:45.935238Z"
    }
   }
  },
  {
   "cell_type": "code",
   "execution_count": 51,
   "outputs": [
    {
     "name": "stdout",
     "output_type": "stream",
     "text": [
      "0.08647626549366527\n",
      "0.12851097563787128\n",
      "0.02848971971073566\n",
      "0.1565804070896344\n",
      "0.2073558450868367\n",
      "0.045500263896358195\n",
      "0.08647626549366527\n",
      "0.10715550703227228\n",
      "0.16913144470267127\n",
      "0.5358849890670379\n",
      "0.01963065725729063\n",
      "0.000299902031286603\n",
      "3.090859376464472e-05\n",
      "0.11223314296829545\n",
      "0.18242243945173553\n",
      "0.03289739164549044\n",
      "0.027068656225639698\n",
      "0.0021949647548757945\n",
      "0.17118031816468138\n",
      "0.3173105078629137\n",
      "0.08411869479791334\n",
      "0.05574248663574344\n",
      "0.03026028002047143\n",
      "0.08995177082160599\n",
      "0.23314061942836206\n",
      "0.01963065725729063\n",
      "0.080118313727634\n",
      "0.023410596161116626\n",
      "0.05378408886239816\n",
      "0.4953539259904347\n",
      "0.005959526470109111\n",
      "0.00035503938074699093\n",
      "0.0004652581580710802\n",
      "0.0034052358212948164\n",
      "0.11608313373865475\n",
      "0.03289739164549044\n",
      "0.027068656225639698\n",
      "0.0021949647548757945\n",
      "0.17118031816468138\n",
      "0.26904557698618126\n",
      "0.030936016802281197\n",
      "0.027221045322651127\n",
      "0.0012720043792380231\n",
      "0.025214845131364294\n",
      "0.18683501798694313\n",
      "0.01963065725729063\n",
      "0.018773411069677115\n",
      "3.090859376464472e-05\n",
      "0.002699796063260207\n",
      "0.42371079716679283\n",
      "0.0006738585313537104\n",
      "0.0007995769809812092\n",
      "1.821529714907122e-05\n",
      "0.014789214221761382\n",
      "0.3997290355013843\n",
      "0.021783741971706627\n",
      "0.008498911869202264\n",
      "3.269330273503179e-05\n",
      "0.03420496957867458\n",
      "0.14705851921929636\n"
     ]
    }
   ],
   "source": [
    "for i, (result, std_dev, z, p) in enumerate(zip(model_results, std_devs, z_scores, p_values)):\n",
    "    print(p)"
   ],
   "metadata": {
    "collapsed": false,
    "ExecuteTime": {
     "start_time": "2024-05-20T11:53:47.363937Z",
     "end_time": "2024-05-20T11:53:47.369458Z"
    }
   }
  },
  {
   "cell_type": "code",
   "execution_count": 51,
   "outputs": [],
   "source": [],
   "metadata": {
    "collapsed": false,
    "ExecuteTime": {
     "start_time": "2024-05-20T11:55:04.651004Z",
     "end_time": "2024-05-20T11:55:04.667010Z"
    }
   }
  },
  {
   "cell_type": "code",
   "execution_count": null,
   "outputs": [],
   "source": [
    "def calculate_improvement_list(baseline, result_list):\n",
    "    improvements = []\n",
    "    for result in result_list:\n",
    "        improvement = ((result - baseline) / baseline) * 100\n",
    "        improvements.append(improvement)\n",
    "    return improvements\n",
    "\n",
    "# Example usage:\n",
    "baseline_score = 80\n",
    "result_scores = [90, 80, 90, 95]\n",
    "\n",
    "percentage_improvements = calculate_improvement_list(baseline_score, result_scores)\n",
    "print(\"Percentage improvements over baseline:\", percentage_improvements)\n"
   ],
   "metadata": {
    "collapsed": false
   }
  }
 ],
 "metadata": {
  "kernelspec": {
   "display_name": "Python 3",
   "language": "python",
   "name": "python3"
  },
  "language_info": {
   "codemirror_mode": {
    "name": "ipython",
    "version": 2
   },
   "file_extension": ".py",
   "mimetype": "text/x-python",
   "name": "python",
   "nbconvert_exporter": "python",
   "pygments_lexer": "ipython2",
   "version": "2.7.6"
  }
 },
 "nbformat": 4,
 "nbformat_minor": 0
}
